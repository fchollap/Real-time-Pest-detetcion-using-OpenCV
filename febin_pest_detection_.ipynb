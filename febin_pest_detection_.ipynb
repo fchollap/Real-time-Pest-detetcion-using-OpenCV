{
  "cells": [
    {
      "cell_type": "markdown",
      "metadata": {
        "id": "view-in-github",
        "colab_type": "text"
      },
      "source": [
        "<a href=\"https://colab.research.google.com/github/fchollap/Real-time-Pest-detetcion-using-OpenCV/blob/main/febin_pest_detection_.ipynb\" target=\"_parent\"><img src=\"https://colab.research.google.com/assets/colab-badge.svg\" alt=\"Open In Colab\"/></a>"
      ]
    },
    {
      "cell_type": "code",
      "execution_count": 1,
      "metadata": {
        "id": "zBnbxpZ77jhB",
        "colab": {
          "base_uri": "https://localhost:8080/",
          "height": 407
        },
        "outputId": "952639e9-9dc2-4f85-d9bf-4e8d7ff56640"
      },
      "outputs": [
        {
          "output_type": "error",
          "ename": "ImportError",
          "evalue": "ignored",
          "traceback": [
            "\u001b[0;31m---------------------------------------------------------------------------\u001b[0m",
            "\u001b[0;31mImportError\u001b[0m                               Traceback (most recent call last)",
            "\u001b[0;32m<ipython-input-1-640bb8486852>\u001b[0m in \u001b[0;36m<cell line: 3>\u001b[0;34m()\u001b[0m\n\u001b[1;32m      1\u001b[0m \u001b[0;32mimport\u001b[0m \u001b[0mcv2\u001b[0m\u001b[0;34m\u001b[0m\u001b[0;34m\u001b[0m\u001b[0m\n\u001b[1;32m      2\u001b[0m \u001b[0;32mimport\u001b[0m \u001b[0mnumpy\u001b[0m \u001b[0;32mas\u001b[0m \u001b[0mnp\u001b[0m\u001b[0;34m\u001b[0m\u001b[0;34m\u001b[0m\u001b[0m\n\u001b[0;32m----> 3\u001b[0;31m \u001b[0;32mfrom\u001b[0m \u001b[0mscipy\u001b[0m\u001b[0;34m.\u001b[0m\u001b[0mstats\u001b[0m \u001b[0;32mimport\u001b[0m \u001b[0mitemfreq\u001b[0m\u001b[0;34m\u001b[0m\u001b[0;34m\u001b[0m\u001b[0m\n\u001b[0m\u001b[1;32m      4\u001b[0m \u001b[0;34m\u001b[0m\u001b[0m\n\u001b[1;32m      5\u001b[0m \u001b[0;34m\u001b[0m\u001b[0m\n",
            "\u001b[0;31mImportError\u001b[0m: cannot import name 'itemfreq' from 'scipy.stats' (/usr/local/lib/python3.10/dist-packages/scipy/stats/__init__.py)",
            "",
            "\u001b[0;31m---------------------------------------------------------------------------\u001b[0;32m\nNOTE: If your import is failing due to a missing package, you can\nmanually install dependencies using either !pip or !apt.\n\nTo view examples of installing some common dependencies, click the\n\"Open Examples\" button below.\n\u001b[0;31m---------------------------------------------------------------------------\u001b[0m\n"
          ],
          "errorDetails": {
            "actions": [
              {
                "action": "open_url",
                "actionText": "Open Examples",
                "url": "/notebooks/snippets/importing_libraries.ipynb"
              }
            ]
          }
        }
      ],
      "source": [
        "import cv2\n",
        "import numpy as np\n",
        "from scipy.stats import itemfreq\n",
        "\n",
        "\n",
        "def get_dominant_color(image, n_colors):\n",
        "    pixels = np.float32(image).reshape((-1, 3))\n",
        "    criteria = (cv2.TERM_CRITERIA_EPS + cv2.TERM_CRITERIA_MAX_ITER, 200, .1)\n",
        "    flags = cv2.KMEANS_RANDOM_CENTERS\n",
        "    flags, labels, centroids = cv2.kmeans(\n",
        "        pixels, n_colors, None, criteria, 10, flags)\n",
        "    palette = np.uint8(centroids)\n",
        "    return palette[np.argmax(itemfreq(labels)[:, -1])]\n",
        "\n",
        "\n",
        "clicked = False\n",
        "def onMouse(event, x, y, flags, param):\n",
        "    global clicked\n",
        "    if event == cv2.EVENT_LBUTTONUP:\n",
        "        clicked = True\n",
        "\n",
        "\n",
        "cameraCapture = cv2.VideoCapture(0)\n",
        "cv2.namedWindow('camera')\n",
        "cv2.setMouseCallback('camera', onMouse)\n",
        "\n",
        "# Read and process frames in loop\n",
        "success, frame = cameraCapture.read()\n",
        "\n",
        "\n",
        "\n",
        "\n",
        "while success and not clicked:\n",
        "    cv2.waitKey(1)\n",
        "    success, frame = cameraCapture.read()\n",
        "\n",
        "    gray = cv2.cvtColor(frame, cv2.COLOR_BGR2GRAY)\n",
        "    img = cv2.medianBlur(gray, 37)\n",
        "    circles = cv2.HoughCircles(img, cv2.HOUGH_GRADIENT,\n",
        "                              1, 50, param1=120, param2=40)\n",
        "\n",
        "    if not circles is None:\n",
        "        circles = np.uint16(np.around(circles))\n",
        "        max_r, max_i = 0, 0\n",
        "        for i in range(len(circles[:, :, 2][0])):\n",
        "            if circles[:, :, 2][0][i] > 50 and circles[:, :, 2][0][i] > max_r:\n",
        "                max_i = i\n",
        "                max_r = circles[:, :, 2][0][i]\n",
        "        x, y, r = circles[:, :, :][0][max_i]\n",
        "        if y > r and x > r:\n",
        "            square = frame[y-r:y+r, x-r:x+r]\n",
        "\n",
        "            dominant_color = get_dominant_color(square, 2)\n",
        "            if dominant_color[2] > 100:\n",
        "                print(\"ALERT PEST DETECTED!!!!!\")\n",
        "            else:\n",
        "                print(\"NO PEST\")\n",
        "\n",
        "        for i in circles[0, :]:\n",
        "            cv2.circle(frame, (i[0], i[1]), i[2], (0, 255, 0), 2)\n",
        "            cv2.circle(frame, (i[0], i[1]), 2, (0, 0, 255), 3)\n",
        "    cv2.imshow('camera', frame)\n",
        "\n",
        "\n",
        "cv2.destroyAllWindows()\n",
        "cameraCapture.release()\n"
      ]
    },
    {
      "cell_type": "code",
      "execution_count": null,
      "metadata": {
        "id": "pr4OUWKS7jhJ"
      },
      "outputs": [],
      "source": []
    }
  ],
  "metadata": {
    "kernelspec": {
      "display_name": "Python 3",
      "language": "python",
      "name": "python3"
    },
    "language_info": {
      "codemirror_mode": {
        "name": "ipython",
        "version": 3
      },
      "file_extension": ".py",
      "mimetype": "text/x-python",
      "name": "python",
      "nbconvert_exporter": "python",
      "pygments_lexer": "ipython3",
      "version": "3.8.5"
    },
    "colab": {
      "provenance": [],
      "include_colab_link": true
    }
  },
  "nbformat": 4,
  "nbformat_minor": 0
}