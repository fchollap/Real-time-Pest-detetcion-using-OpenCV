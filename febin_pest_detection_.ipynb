Code
#####
# Created By: Ruth Neeßen, Febin Chollapra
# Date: 2022-03-10
# Version = 1.0
# This module detects plants in images, removes the background and finds different colored 
# spots on the plants
# #
from skimage.exposure import exposure
from datetime import datetime
import cv2 as cv
import os
import numpy as np
import matplotlib.pyplot as plt
class Log:
 def __init__(self):
 self.filename = "log/log.txt"
 self.write("[" + datetime.now() .strftime("%y-%m-%d %H:%M") + "]\n")
 def write(self, string):
 f = open(self.filename, "a")
 f.write(string)
 f.close()
class ColorCorrection:
 ################# Histogram matching part ######################
 # Use the histogram matching and the blending for images with color panels and work
 # with the blended image
 # 1. replace colorPanelImg with color panel photo,
 # 2. replace ref with color panel reference image
 def __init__(self):
 colorPanelImg = cv.imread(cv.samples.findFile("images/reference/img.png"))
 ref = cv.imread(cv.samples.findFile("images/reference/img.png"))
 ref = cv.cvtColor(ref, cv.COLOR_BGR2RGB)
 self.matched = exposure.match_histograms(colorPanelImg, ref, channel_axis=-1)
 def getCorrectedImage(self, image): # Blend images equally.
 list_images = [image, self.matched]
 equal_fraction = 1.0 / (len(list_images))
 output = np.zeros_like(list_images[0])
 for img in list_images:
 output = output + img * equal_fraction
 output = output.astype(np.uint8)
 return output
36
class PlantDetection:
 def __init__(self, folder, filename):
 self.filename = filename;
 self.image = cv.imread(cv.samples.findFile(folder + filename))
 self.image = cv.cvtColor(self.image, cv.COLOR_BGR2RGB)
 ### put color correction back in
 #cc = ColorCorrection();
 #self.image = cv.cvtColor(cc.getCorrectedImage(self.image), cv.COLOR_BGR2RGB)
 #change to HSV color space
 self.image_HSV = cv.cvtColor(self.image,cv.COLOR_RGB2HSV)
 self.plantsImage = None;
 def findPlants(self):
 #green mask, should be adjusted after the implementation of the color panel
 plt.figure(figsize=(20, 42))
 plt.imshow(self.image)
 lower=np.array([36,60,130])
 upper=np.array([86,255,255])
 mask = cv.inRange(self.image_HSV ,lower,upper)
 res = cv.bitwise_and(self.image, self.image,mask=mask)
 blue, green, red = cv.split(res)
 #create closed outlines to create a mask from it
 kernel = cv.getStructuringElement(cv.MORPH_DILATE, (5,5))
 close = cv.morphologyEx(green, cv.MORPH_CLOSE, kernel, iterations=1)
 contours, hierarchy = cv.findContours(close, mode=cv.RETR_EXTERNAL, 
method=cv.CHAIN_APPROX_SIMPLE)
 #edit contours and remove smaller spots outside of the plant
 contourList = list(contours)
 contourList2 = list()
 for c in contourList:
 if cv.contourArea(c) > 140.0:
 contourList2.append(c)
 contours2 = tuple(contourList2)
 mask = np.zeros_like(self.image)
 cv.drawContours(image=mask, contours=contours2, contourIdx=-1, color=(255, 0, 0), 
thickness=-1, lineType=cv.LINE_AA)
 # output the contoured plants
 #plt.figure(figsize=(10, 22))
 #plt.imshow(cv.bitwise_and(self.image, mask))
 
37
 #create mask from contours via grayscaled image and treshold method and add it 
 #to the input picture to get all colors on our plants back in
 img2gray = cv.cvtColor(mask,cv.COLOR_BGR2GRAY)
 ret, mask = cv.threshold(img2gray, 10, 255, cv.THRESH_BINARY)
 self.plantsImage = cv.bitwise_and(self.image,self.image,mask=mask)
 return self.plantsImage;
 def findStickers(self, log):
 # get all colors on our plants below green in HSV colorspace
 lower = np.array([0,50,0])
 upper = np.array([45,255,255])
 grid_HSV = cv.cvtColor(self.plantsImage,cv.COLOR_RGB2HSV)
 #mask lower color area
 mask1 = cv.inRange(grid_HSV,lower,upper)
 # get all colors on our plants above green in HSV colorspace
 lower = np.array([86,50,0])
 upper = np.array([179,255,255])
 #mask upper color area
 mask2 = cv.inRange(grid_HSV, lower, upper)
 ##add the two mask to a final mask to get all colors except green on the plants
 mask = cv.bitwise_or(mask1, mask2)
 unique, counts = np.unique(mask, return_counts=True)
 counterAll = 0;
 stickerDict = dict(zip(unique, counts))
 if 255 in stickerDict:
 counterAll = stickerDict[255]
 log.write("Colored found: " + str(counterAll) + "\n")
 res = cv.bitwise_and(self.plantsImage, self.plantsImage,mask=mask)
 return res;
 def findRedStickers(self, log):
 # get all colors on our plants below green in HSV colorspace
 lower = np.array([0,100,0])
 upper = np.array([20,255,255])
 grid_HSV = cv.cvtColor(self.plantsImage,cv.COLOR_RGB2HSV)
 #mask lower color area
 mask1 = cv.inRange(grid_HSV,lower,upper)
 # get all colors on our plants above green in HSV colorspace
 lower = np.array([150,100,0])
 upper = np.array([179,255,255])
38
 #mask upper color area
 mask2 = cv.inRange(grid_HSV, lower, upper)
 ##add the two mask to a final mask to get all colors except green on the plants
 mask = cv.bitwise_or(mask1, mask2)
 unique, counts = np.unique(mask, return_counts=True)
 counterRed = 0;
 redColorDict = dict(zip(unique, counts))
 if 255 in redColorDict:
 counterRed = redColorDict[255]
 log.write("Red found: " + str(counterRed) + "\n")
 res = cv.bitwise_and(self.plantsImage, self.plantsImage,mask=mask)
 return res;
 def findSmallSpots(self, log):
 grid_HSV = cv.cvtColor(self.plantsImage,cv.COLOR_RGB2HSV)
 mask = cv.inRange(grid_HSV, np.array([0,0,100]), np.array([179,50,255]))
 unique, counts = np.unique(mask, return_counts=True)
 counterSmall = 0;
 smallSpotsDict = dict(zip(unique, counts))
 if 255 in smallSpotsDict:
 counterSmall = smallSpotsDict[255]
 log.write("White found: " + str(counterSmall) + "\n")
 res = cv.bitwise_and(self.plantsImage, self.plantsImage,mask=mask)
 return res;
 # draws the detected spots on the input image
 def showResultImage(self, processedImage):
 img_gray = cv.cvtColor(processedImage, cv.COLOR_RGB2GRAY)
 th, thresh = cv.threshold(img_gray, 0, 255, cv.THRESH_BINARY)
 kernel = cv.getStructuringElement(cv.MORPH_DILATE, (2,2))
 close = cv.morphologyEx(thresh, cv.MORPH_CLOSE, kernel, iterations=1)
 contours, hierarchy = cv.findContours(close, mode=cv.RETR_EXTERNAL, 
method=cv.CHAIN_APPROX_SIMPLE)
 cv.drawContours(image=self.image, contours=contours, contourIdx=-1, color=(255, 0, 
255), thickness=-1, lineType=cv.LINE_AA)
 plt.figure(figsize=(20, 42))
 plt.imshow(self.image)
folder = "images/input/";
log = Log();
for filename in os.listdir(folder):
 image = PlantDetection(folder, filename)
 image.findPlants()
 log.write("File: " + filename + "\n")
39
 red = image.findRedStickers(log)
 allColors = image.findStickers(log)
 white = image.findSmallSpots(log)
 image.showResultImage(white)
 image.showResultImage(red)
 image.showResultImage(allColors)























{
  "cells": [
    {
      "cell_type": "markdown",
      "metadata": {
        "id": "view-in-github",
        "colab_type": "text"
      },
      "source": [
        "<a href=\"https://colab.research.google.com/github/fchollap/Real-time-Pest-detetcion-using-OpenCV/blob/main/febin_pest_detection_.ipynb\" target=\"_parent\"><img src=\"https://colab.research.google.com/assets/colab-badge.svg\" alt=\"Open In Colab\"/></a>"
      ]
    },
    {
      "cell_type": "code",
      "execution_count": 1,
      "metadata": {
        "id": "zBnbxpZ77jhB",
        "colab": {
          "base_uri": "https://localhost:8080/",
          "height": 407
        },
        "outputId": "952639e9-9dc2-4f85-d9bf-4e8d7ff56640"
      },
      "outputs": [
        {
          "output_type": "error",
          "ename": "ImportError",
          "evalue": "ignored",
          "traceback": [
            "\u001b[0;31m---------------------------------------------------------------------------\u001b[0m",
            "\u001b[0;31mImportError\u001b[0m                               Traceback (most recent call last)",
            "\u001b[0;32m<ipython-input-1-640bb8486852>\u001b[0m in \u001b[0;36m<cell line: 3>\u001b[0;34m()\u001b[0m\n\u001b[1;32m      1\u001b[0m \u001b[0;32mimport\u001b[0m \u001b[0mcv2\u001b[0m\u001b[0;34m\u001b[0m\u001b[0;34m\u001b[0m\u001b[0m\n\u001b[1;32m      2\u001b[0m \u001b[0;32mimport\u001b[0m \u001b[0mnumpy\u001b[0m \u001b[0;32mas\u001b[0m \u001b[0mnp\u001b[0m\u001b[0;34m\u001b[0m\u001b[0;34m\u001b[0m\u001b[0m\n\u001b[0;32m----> 3\u001b[0;31m \u001b[0;32mfrom\u001b[0m \u001b[0mscipy\u001b[0m\u001b[0;34m.\u001b[0m\u001b[0mstats\u001b[0m \u001b[0;32mimport\u001b[0m \u001b[0mitemfreq\u001b[0m\u001b[0;34m\u001b[0m\u001b[0;34m\u001b[0m\u001b[0m\n\u001b[0m\u001b[1;32m      4\u001b[0m \u001b[0;34m\u001b[0m\u001b[0m\n\u001b[1;32m      5\u001b[0m \u001b[0;34m\u001b[0m\u001b[0m\n",
            "\u001b[0;31mImportError\u001b[0m: cannot import name 'itemfreq' from 'scipy.stats' (/usr/local/lib/python3.10/dist-packages/scipy/stats/__init__.py)",
            "",
            "\u001b[0;31m---------------------------------------------------------------------------\u001b[0;32m\nNOTE: If your import is failing due to a missing package, you can\nmanually install dependencies using either !pip or !apt.\n\nTo view examples of installing some common dependencies, click the\n\"Open Examples\" button below.\n\u001b[0;31m---------------------------------------------------------------------------\u001b[0m\n"
          ],
          "errorDetails": {
            "actions": [
              {
                "action": "open_url",
                "actionText": "Open Examples",
                "url": "/notebooks/snippets/importing_libraries.ipynb"
              }
            ]
          }
        }
      ],
      "source": [
        "import cv2\n",
        "import numpy as np\n",
        "from scipy.stats import itemfreq\n",
        "\n",
        "\n",
        "def get_dominant_color(image, n_colors):\n",
        "    pixels = np.float32(image).reshape((-1, 3))\n",
        "    criteria = (cv2.TERM_CRITERIA_EPS + cv2.TERM_CRITERIA_MAX_ITER, 200, .1)\n",
        "    flags = cv2.KMEANS_RANDOM_CENTERS\n",
        "    flags, labels, centroids = cv2.kmeans(\n",
        "        pixels, n_colors, None, criteria, 10, flags)\n",
        "    palette = np.uint8(centroids)\n",
        "    return palette[np.argmax(itemfreq(labels)[:, -1])]\n",
        "\n",
        "\n",
        "clicked = False\n",
        "def onMouse(event, x, y, flags, param):\n",
        "    global clicked\n",
        "    if event == cv2.EVENT_LBUTTONUP:\n",
        "        clicked = True\n",
        "\n",
        "\n",
        "cameraCapture = cv2.VideoCapture(0)\n",
        "cv2.namedWindow('camera')\n",
        "cv2.setMouseCallback('camera', onMouse)\n",
        "\n",
        "# Read and process frames in loop\n",
        "success, frame = cameraCapture.read()\n",
        "\n",
        "\n",
        "\n",
        "\n",
        "while success and not clicked:\n",
        "    cv2.waitKey(1)\n",
        "    success, frame = cameraCapture.read()\n",
        "\n",
        "    gray = cv2.cvtColor(frame, cv2.COLOR_BGR2GRAY)\n",
        "    img = cv2.medianBlur(gray, 37)\n",
        "    circles = cv2.HoughCircles(img, cv2.HOUGH_GRADIENT,\n",
        "                              1, 50, param1=120, param2=40)\n",
        "\n",
        "    if not circles is None:\n",
        "        circles = np.uint16(np.around(circles))\n",
        "        max_r, max_i = 0, 0\n",
        "        for i in range(len(circles[:, :, 2][0])):\n",
        "            if circles[:, :, 2][0][i] > 50 and circles[:, :, 2][0][i] > max_r:\n",
        "                max_i = i\n",
        "                max_r = circles[:, :, 2][0][i]\n",
        "        x, y, r = circles[:, :, :][0][max_i]\n",
        "        if y > r and x > r:\n",
        "            square = frame[y-r:y+r, x-r:x+r]\n",
        "\n",
        "            dominant_color = get_dominant_color(square, 2)\n",
        "            if dominant_color[2] > 100:\n",
        "                print(\"ALERT PEST DETECTED!!!!!\")\n",
        "            else:\n",
        "                print(\"NO PEST\")\n",
        "\n",
        "        for i in circles[0, :]:\n",
        "            cv2.circle(frame, (i[0], i[1]), i[2], (0, 255, 0), 2)\n",
        "            cv2.circle(frame, (i[0], i[1]), 2, (0, 0, 255), 3)\n",
        "    cv2.imshow('camera', frame)\n",
        "\n",
        "\n",
        "cv2.destroyAllWindows()\n",
        "cameraCapture.release()\n"
      ]
    },
    {
      "cell_type": "code",
      "execution_count": null,
      "metadata": {
        "id": "pr4OUWKS7jhJ"
      },
      "outputs": [],
      "source": []
    }
  ],
  "metadata": {
    "kernelspec": {
      "display_name": "Python 3",
      "language": "python",
      "name": "python3"
    },
    "language_info": {
      "codemirror_mode": {
        "name": "ipython",
        "version": 3
      },
      "file_extension": ".py",
      "mimetype": "text/x-python",
      "name": "python",
      "nbconvert_exporter": "python",
      "pygments_lexer": "ipython3",
      "version": "3.8.5"
    },
    "colab": {
      "provenance": [],
      "include_colab_link": true
    }
  },
  "nbformat": 4,
  "nbformat_minor": 0
}
